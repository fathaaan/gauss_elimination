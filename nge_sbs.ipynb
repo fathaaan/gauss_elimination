{
 "cells": [
  {
   "cell_type": "markdown",
   "id": "1fd84ef8-d65e-4e3f-85b0-5807bf25d9f6",
   "metadata": {},
   "source": [
    "# Naive Gauss Elimination (step by step)"
   ]
  },
  {
   "cell_type": "markdown",
   "id": "20b42180-6f95-4a68-a2ba-aaa3f9659fcb",
   "metadata": {},
   "source": [
    "<hr style=\"border: 4px solid;\">\n",
    "Consider we want to solve this system of linear equations;\n",
    "\n",
    "$$ \n",
    "\\begin{align*}\n",
    "2x + y - 3z &= 4 \\\\\n",
    "-x + 2y - z &= 3 \\\\\n",
    "4x - 3y + 2z &= 1\n",
    "\\end{align*}\n",
    "$$\n",
    "\n",
    "We can write this system of linear equations in matrix form as:\n",
    "$$ \\begin{bmatrix} 2 & 1 & -3 \\\\ -1 & 2 & -1 \\\\ 4 & -3 & 2 \\end{bmatrix} \\begin{bmatrix} x \\\\ y \\\\ z \\end{bmatrix} = \\begin{bmatrix} 4 \\\\ 3 \\\\ 1 \\end{bmatrix} $$\n"
   ]
  },
  {
   "cell_type": "markdown",
   "id": "e1462231-185e-4da3-be5f-1236ea25fd27",
   "metadata": {},
   "source": [
    "<hr style=\"border: 2px solid;\">\n",
    "1. &emsp; $ \\mbox{Preparation} $"
   ]
  },
  {
   "cell_type": "markdown",
   "id": "572b64d7-0152-4e5e-8bb6-f036afbd9cbe",
   "metadata": {},
   "source": [
    "&emsp;&emsp; a.) &emsp; Importing library needed for the code"
   ]
  },
  {
   "cell_type": "code",
   "execution_count": 1,
   "id": "b93adac5-094e-4084-b8c1-e360ea8e26f4",
   "metadata": {},
   "outputs": [],
   "source": [
    "import numpy as np"
   ]
  },
  {
   "cell_type": "markdown",
   "id": "fa5b1442-88ff-435a-83ce-645a2fcf1ac4",
   "metadata": {},
   "source": [
    "<hr>\n",
    "&emsp;&emsp; b.) &emsp; Generating matrices"
   ]
  },
  {
   "cell_type": "code",
   "execution_count": 2,
   "id": "22b59836-6778-4811-8d78-6aacba81cf48",
   "metadata": {},
   "outputs": [
    {
     "name": "stdout",
     "output_type": "stream",
     "text": [
      "[[ 2  1 -3]\n",
      " [-1  2 -1]\n",
      " [ 4 -3  2]]\n"
     ]
    }
   ],
   "source": [
    "A = np.array([\n",
    "    [2,1,-3],\n",
    "    [-1,2,-1],\n",
    "    [4,-3,2]\n",
    "])\n",
    "print(A)"
   ]
  },
  {
   "cell_type": "code",
   "execution_count": 3,
   "id": "18927b8a-7da7-4517-9d79-db131a6e2f3c",
   "metadata": {},
   "outputs": [
    {
     "name": "stdout",
     "output_type": "stream",
     "text": [
      "[[4.]\n",
      " [3.]\n",
      " [1.]]\n"
     ]
    }
   ],
   "source": [
    "b = np.array([\n",
    "    [4.0],\n",
    "    [3.0],\n",
    "    [1.0]\n",
    "])\n",
    "print(b)"
   ]
  },
  {
   "cell_type": "markdown",
   "id": "cdeeb8cc-d565-4203-9abc-111905353407",
   "metadata": {},
   "source": [
    "<hr>\n",
    "&emsp;&emsp; c.) &emsp; Building augmented matrices of <br>\n",
    "\n",
    "$$ \\left[ \\begin{array}{ccc|c} 2 & 1 & -3 & 4 \\\\ -1 & 2 & -1 & 3 \\\\ 4 & -3 & 2 & 1 \\end{array} \\right] $$\r\n",
    "$$ $$"
   ]
  },
  {
   "cell_type": "code",
   "execution_count": 5,
   "id": "7497b9b2-48d0-4a4c-b5b0-6f74a54f0121",
   "metadata": {},
   "outputs": [
    {
     "name": "stdout",
     "output_type": "stream",
     "text": [
      "[[ 2.  1. -3.  4.]\n",
      " [-1.  2. -1.  3.]\n",
      " [ 4. -3.  2.  1.]]\n"
     ]
    }
   ],
   "source": [
    "aug = np.hstack((A,b))\n",
    "print(aug)"
   ]
  },
  {
   "cell_type": "markdown",
   "id": "edc4f437-3d11-4a72-bae4-1f66e7e63e17",
   "metadata": {},
   "source": [
    "<hr style=\"border: 2px solid;\">\n",
    "2. &emsp; $ \\mbox{Forward Elimination} $"
   ]
  },
  {
   "cell_type": "markdown",
   "id": "4422650b-c444-4ad9-b2eb-9c2339744110",
   "metadata": {},
   "source": [
    "&emsp;&emsp; a.) &emsp; Eliminating the first column on the second row (R1) using the first row (R0) <br>\n",
    "\n",
    "$$ R_1 - \\frac{a_{10}}{a_{00}}R_0 \\rightarrow R'_1 $$"
   ]
  },
  {
   "cell_type": "code",
   "execution_count": 6,
   "id": "3e0b8ebf-80ae-4bdc-9017-20940bf24775",
   "metadata": {},
   "outputs": [
    {
     "name": "stdout",
     "output_type": "stream",
     "text": [
      "[[ 2.   1.  -3.   4. ]\n",
      " [ 0.   2.5 -2.5  5. ]\n",
      " [ 4.  -3.   2.   1. ]]\n"
     ]
    }
   ],
   "source": [
    "scale = aug[1,0]/aug[0,0]\n",
    "aug[1] = aug[1] - scale*aug[0]\n",
    "print(aug)"
   ]
  },
  {
   "cell_type": "markdown",
   "id": "8ec178d2-b1c0-4245-82fa-8cbfba8f4375",
   "metadata": {},
   "source": [
    "<hr>\n",
    "&emsp;&emsp; b.) &emsp; Eliminating the first column on the third row (R2) using the first row (R0) <br>\n",
    "\n",
    "$$ R_2 - \\frac{a_{20}}{a_{00}}R_0 \\rightarrow R'_2 $$"
   ]
  },
  {
   "cell_type": "markdown",
   "id": "23c94052-9a55-43eb-b7d1-0ebf8d978769",
   "metadata": {},
   "source": [
    "<hr>\n",
    "&emsp;&emsp; c.) &emsp; Eliminating the second column on the third row (R'2) using the second row (R'1) <br>\n",
    "\n",
    "$$ R'_2 - \\frac{a'_{21}}{a'_{11}}R'_1 \\rightarrow R''_2 $$"
   ]
  },
  {
   "cell_type": "code",
   "execution_count": 11,
   "id": "e3bba503-d0c9-4f23-a733-c8ee7eee4fab",
   "metadata": {},
   "outputs": [
    {
     "name": "stdout",
     "output_type": "stream",
     "text": [
      "[[ 2.   1.  -3.   4. ]\n",
      " [ 0.   2.5 -2.5  5. ]\n",
      " [ 0.  -5.   8.  -7. ]]\n"
     ]
    }
   ],
   "source": [
    "scale = aug[2,0]/aug[0,0]\n",
    "aug[2] = aug[2] - scale*aug[0]\n",
    "print(aug)"
   ]
  },
  {
   "cell_type": "code",
   "execution_count": 12,
   "id": "aa50522c-8690-4671-8ff5-8f483179c663",
   "metadata": {},
   "outputs": [
    {
     "name": "stdout",
     "output_type": "stream",
     "text": [
      "[[ 2.   1.  -3.   4. ]\n",
      " [ 0.   2.5 -2.5  5. ]\n",
      " [ 0.   0.   3.   3. ]]\n"
     ]
    }
   ],
   "source": [
    "scale = aug[2,1]/aug[1,1]\n",
    "aug[2] = aug[2] - scale*aug[1]\n",
    "print(aug)"
   ]
  },
  {
   "cell_type": "markdown",
   "id": "34f1eed4-943c-4d24-af9f-bef532c58236",
   "metadata": {},
   "source": [
    "<hr style=\"border: 2px solid;\">\n",
    "3. &emsp; $ \\mbox{Back Substitution} $"
   ]
  },
  {
   "cell_type": "markdown",
   "id": "d76145b7-8e1a-49e8-b29d-9b5783ad2831",
   "metadata": {},
   "source": [
    "&emsp;&emsp; a.) &emsp; From the last row ($R''_2$), solve for $z$ <br>\n",
    "\n",
    "$$ a''_{22}z = a''_{23} \\rightarrow z = \\frac{a''_{23}}{a''_{22}}$$"
   ]
  },
  {
   "cell_type": "code",
   "execution_count": 19,
   "id": "024ecf8f-0026-4fec-bf82-1efffbc9a325",
   "metadata": {},
   "outputs": [
    {
     "name": "stdout",
     "output_type": "stream",
     "text": [
      "z = 1.0\n"
     ]
    }
   ],
   "source": [
    "z = aug[2,3]/aug[2,2]\n",
    "print(\"z = {}\".format(z))"
   ]
  },
  {
   "cell_type": "markdown",
   "id": "db9ada4f-1db5-439b-a4f1-985769aca464",
   "metadata": {},
   "source": [
    "<hr>\n",
    "&emsp;&emsp; b.) &emsp; From the second row ($R'_1$), solve for $y$ <br>\n",
    "\n",
    "$$ a'_{11}y + a'_{12}z = a'_{13} \\rightarrow y = \\frac{a'_{13} - a'_{12}z}{a'_{11}} $$"
   ]
  },
  {
   "cell_type": "code",
   "execution_count": 20,
   "id": "801d6b52-fef1-434b-99f8-ce558af2d147",
   "metadata": {},
   "outputs": [
    {
     "name": "stdout",
     "output_type": "stream",
     "text": [
      "y = 3.0\n"
     ]
    }
   ],
   "source": [
    "y = (aug[1,3] - aug[1,2]*z)/aug[1,1]\n",
    "print(\"y = {}\".format(y))"
   ]
  },
  {
   "cell_type": "markdown",
   "id": "674f9c41-2192-48d1-9f63-03cde919eaf0",
   "metadata": {},
   "source": [
    "<hr>\n",
    "&emsp;&emsp; c.) &emsp; From the first row ($R_0$), solve for $x$ <br>\n",
    "\n",
    "$$ a_{00}x + a_{01}y + a_{02}z = a_{03} \\rightarrow x = \\frac{a_{03} - (a_{01}y + a_{02}z)}{a_{00}} $$"
   ]
  },
  {
   "cell_type": "code",
   "execution_count": 21,
   "id": "f4898606-c9fe-4525-8e6e-45f59c8ce728",
   "metadata": {},
   "outputs": [
    {
     "name": "stdout",
     "output_type": "stream",
     "text": [
      "x = 2.0\n"
     ]
    }
   ],
   "source": [
    "x = (aug[0,3] - (aug[0,1]*y + aug[0,2]*z))/(aug[0,0])\n",
    "print(\"x = {}\".format(x))"
   ]
  }
 ],
 "metadata": {
  "kernelspec": {
   "display_name": "Python 3 (ipykernel)",
   "language": "python",
   "name": "python3"
  },
  "language_info": {
   "codemirror_mode": {
    "name": "ipython",
    "version": 3
   },
   "file_extension": ".py",
   "mimetype": "text/x-python",
   "name": "python",
   "nbconvert_exporter": "python",
   "pygments_lexer": "ipython3",
   "version": "3.12.0"
  }
 },
 "nbformat": 4,
 "nbformat_minor": 5
}
