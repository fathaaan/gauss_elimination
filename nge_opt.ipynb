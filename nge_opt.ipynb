{
 "cells": [
  {
   "cell_type": "markdown",
   "id": "1fd84ef8-d65e-4e3f-85b0-5807bf25d9f6",
   "metadata": {},
   "source": [
    "# Naive Gauss Elimination (optimized)"
   ]
  },
  {
   "cell_type": "markdown",
   "id": "20b42180-6f95-4a68-a2ba-aaa3f9659fcb",
   "metadata": {},
   "source": [
    "<hr style=\"border: 4px solid;\">\n",
    "Consider we want to solve this system of linear equations;\n",
    "\n",
    "$$ \n",
    "\\begin{align*}\n",
    "2x + y - 3z &= 4 \\\\\n",
    "-x + 2y - z &= 3 \\\\\n",
    "4x - 3y + 2z &= 1\n",
    "\\end{align*}\n",
    "$$\n",
    "\n",
    "We can write this system of linear equations in matrix form as:\n",
    "$$ \\begin{bmatrix} 2 & 1 & -3 \\\\ -1 & 2 & -1 \\\\ 4 & -3 & 2 \\end{bmatrix} \\begin{bmatrix} x \\\\ y \\\\ z \\end{bmatrix} = \\begin{bmatrix} 4 \\\\ 3 \\\\ 1 \\end{bmatrix} $$\n"
   ]
  },
  {
   "cell_type": "markdown",
   "id": "e1462231-185e-4da3-be5f-1236ea25fd27",
   "metadata": {},
   "source": [
    "<hr style=\"border: 2px solid;\">\n",
    "1. &emsp; $ \\mbox{Preparation} $"
   ]
  },
  {
   "cell_type": "markdown",
   "id": "572b64d7-0152-4e5e-8bb6-f036afbd9cbe",
   "metadata": {},
   "source": [
    "&emsp;&emsp; a.) &emsp; Importing library needed for the code"
   ]
  },
  {
   "cell_type": "code",
   "execution_count": 1,
   "id": "b93adac5-094e-4084-b8c1-e360ea8e26f4",
   "metadata": {},
   "outputs": [],
   "source": [
    "import numpy as np"
   ]
  },
  {
   "cell_type": "markdown",
   "id": "fa5b1442-88ff-435a-83ce-645a2fcf1ac4",
   "metadata": {},
   "source": [
    "<hr>\n",
    "&emsp;&emsp; b.) &emsp; Generating matrices"
   ]
  },
  {
   "cell_type": "code",
   "execution_count": 2,
   "id": "22b59836-6778-4811-8d78-6aacba81cf48",
   "metadata": {},
   "outputs": [
    {
     "name": "stdout",
     "output_type": "stream",
     "text": [
      "[[ 2  1 -3]\n",
      " [-1  2 -1]\n",
      " [ 4 -3  2]]\n"
     ]
    }
   ],
   "source": [
    "A = np.array([[2,1,-3],[-1,2,-1],[4,-3,2]])\n",
    "print(A)"
   ]
  },
  {
   "cell_type": "code",
   "execution_count": 3,
   "id": "18927b8a-7da7-4517-9d79-db131a6e2f3c",
   "metadata": {},
   "outputs": [
    {
     "name": "stdout",
     "output_type": "stream",
     "text": [
      "[[4.]\n",
      " [3.]\n",
      " [1.]]\n"
     ]
    }
   ],
   "source": [
    "b = np.array([[4.0],[3.0],[1.0]])\n",
    "print(b)"
   ]
  },
  {
   "cell_type": "markdown",
   "id": "cdeeb8cc-d565-4203-9abc-111905353407",
   "metadata": {},
   "source": [
    "<hr>\n",
    "&emsp;&emsp; c.) &emsp; Building augmented matrices of <br>\n",
    "\n",
    "$$ \\left[ \\begin{array}{ccc|c} 2 & 1 & -3 & 4 \\\\ -1 & 2 & -1 & 3 \\\\ 4 & -3 & 2 & 1 \\end{array} \\right] $$\r\n",
    "$$ $$"
   ]
  },
  {
   "cell_type": "code",
   "execution_count": 5,
   "id": "7497b9b2-48d0-4a4c-b5b0-6f74a54f0121",
   "metadata": {},
   "outputs": [
    {
     "name": "stdout",
     "output_type": "stream",
     "text": [
      "[[ 2.  1. -3.  4.]\n",
      " [-1.  2. -1.  3.]\n",
      " [ 4. -3.  2.  1.]]\n"
     ]
    }
   ],
   "source": [
    "aug = np.hstack((A,b))\n",
    "print(aug)"
   ]
  },
  {
   "cell_type": "markdown",
   "id": "edc4f437-3d11-4a72-bae4-1f66e7e63e17",
   "metadata": {},
   "source": [
    "<hr style=\"border: 2px solid;\">\n",
    "2. &emsp; $ \\mbox{Forward Elimination} $"
   ]
  },
  {
   "cell_type": "markdown",
   "id": "4422650b-c444-4ad9-b2eb-9c2339744110",
   "metadata": {},
   "source": [
    "&emsp;&emsp; Eliminating the lower diagonal elements <br>\n",
    "\n",
    "$$ \\left[ \\begin{array}{ccc|c} a_{00} & a_{01} & a_{02} & a_{03} \\\\ a_{10} & a_{11} & a_{12} & a_{13} \\\\ a_{20} & a_{21} & a_{22} & a_{23} \\end{array} \\right] \n",
    "\\rightarrow\n",
    "\\left[ \\begin{array}{ccc|c} a_{00} & a_{01} & a_{02} & a_{03} \\\\ 0 & a'_{11} & a'_{12} & a'_{13} \\\\ 0 & 0 & a''_{22} & a''_{23} \\end{array} \\right] $$"
   ]
  },
  {
   "cell_type": "code",
   "execution_count": 6,
   "id": "52337cda-4ee0-4067-8c63-e6df4a11cc42",
   "metadata": {},
   "outputs": [
    {
     "name": "stdout",
     "output_type": "stream",
     "text": [
      "[[ 2.   1.  -3.   4. ]\n",
      " [ 0.   2.5 -2.5  5. ]\n",
      " [ 0.   0.   3.   3. ]]\n"
     ]
    }
   ],
   "source": [
    "n = len(b)\n",
    "for i in range(n):\n",
    "    for j in range(i+1,n):\n",
    "        scale = aug[j,i]/aug[i,i]\n",
    "        aug[j] = aug[j] - scale*aug[i]\n",
    "\n",
    "print(aug)"
   ]
  },
  {
   "cell_type": "markdown",
   "id": "34f1eed4-943c-4d24-af9f-bef532c58236",
   "metadata": {},
   "source": [
    "<hr style=\"border: 2px solid;\">\n",
    "3. &emsp; $ \\mbox{Back Substitution} $\n"
   ]
  },
  {
   "cell_type": "markdown",
   "id": "a2a12bdc-5f8d-4dc2-ace2-6bc86d057af3",
   "metadata": {},
   "source": [
    "&emsp;&emsp; Solving for each variables\n",
    "\n",
    "$$ \\begin{bmatrix} a_{00} & a_{01} & a_{02} \\\\ 0 & a'_{11} & a'_{12} \\\\ 0 & 0 & a''_{22} \\end{bmatrix} \n",
    "\\begin{bmatrix} x \\\\ y \\\\ z \\end{bmatrix} = \\begin{bmatrix} a_{03} \\\\ a'_{13} \\\\ a''_{23} \\end{bmatrix} \\rightarrow \n",
    "\\left\\{\\begin{align*} a_{00}x + a_{01}y + a_{02}z = a_{03} \\\\ a'_{11}y + a'_{12}z = a'_{13} \\\\ a''_{22}z = a''_{23} \\end{align*}\\right\\} $$\n",
    "$$ \\rightarrow z = \\frac{a''_{23}}{a''_{22}}; y = \\frac{a'_{13} - a'_{12}z}{a'_{11}}; x = \\frac{a_{03} - (a_{01}y + a_{02}z)}{a_{00}}.$$"
   ]
  },
  {
   "cell_type": "code",
   "execution_count": 7,
   "id": "1cb72a92-efcd-48e4-a38e-9becf85c6463",
   "metadata": {},
   "outputs": [
    {
     "name": "stdout",
     "output_type": "stream",
     "text": [
      "x = 2.0\n",
      "y = 3.0\n",
      "z = 1.0\n"
     ]
    }
   ],
   "source": [
    "x = np.zeros(n)\n",
    "for i in range(n-1, -1, -1):\n",
    "    x[i] = (aug[i,n] - np.dot(aug[i,i:n], x[i:n])) / aug[i,i]\n",
    "\n",
    "print(\"x = {}\".format(x[0]))\n",
    "print(\"y = {}\".format(x[1]))\n",
    "print(\"z = {}\".format(x[2]))"
   ]
  }
 ],
 "metadata": {
  "kernelspec": {
   "display_name": "Python 3 (ipykernel)",
   "language": "python",
   "name": "python3"
  },
  "language_info": {
   "codemirror_mode": {
    "name": "ipython",
    "version": 3
   },
   "file_extension": ".py",
   "mimetype": "text/x-python",
   "name": "python",
   "nbconvert_exporter": "python",
   "pygments_lexer": "ipython3",
   "version": "3.12.0"
  }
 },
 "nbformat": 4,
 "nbformat_minor": 5
}
