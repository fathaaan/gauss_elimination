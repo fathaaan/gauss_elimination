{
 "cells": [
  {
   "cell_type": "markdown",
   "id": "96f2f11a-ffe2-4349-86b6-9d4d8234189f",
   "metadata": {},
   "source": [
    "# Gauss Elimination"
   ]
  },
  {
   "cell_type": "markdown",
   "id": "483b2054-4000-412e-8a2f-c474f0175611",
   "metadata": {},
   "source": [
    "[Naive Gauss Elimination (step by step process)](./nge_sbs.ipynb) <br>\n",
    "[Naive Gauss Elimination (optimized process)](./nge_opt.ipynb) <br>\n",
    "[Case 1: Earthquake Determination](./nge_case_eq.ipynb)"
   ]
  },
  {
   "cell_type": "code",
   "execution_count": null,
   "id": "bfa30bf9-31c2-469f-ae3c-175c0ed7bf80",
   "metadata": {},
   "outputs": [],
   "source": []
  }
 ],
 "metadata": {
  "kernelspec": {
   "display_name": "Python 3 (ipykernel)",
   "language": "python",
   "name": "python3"
  },
  "language_info": {
   "codemirror_mode": {
    "name": "ipython",
    "version": 3
   },
   "file_extension": ".py",
   "mimetype": "text/x-python",
   "name": "python",
   "nbconvert_exporter": "python",
   "pygments_lexer": "ipython3",
   "version": "3.12.0"
  }
 },
 "nbformat": 4,
 "nbformat_minor": 5
}
